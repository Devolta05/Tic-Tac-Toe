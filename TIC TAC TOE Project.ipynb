{
 "cells": [
  {
   "cell_type": "code",
   "execution_count": 1,
   "metadata": {},
   "outputs": [],
   "source": [
    "## Board Display \n",
    "\n",
    "from IPython.display import clear_output\n",
    "\n",
    "def display_board(board):\n",
    "    clear_output()\n",
    "    print(\"     |     |     \")\n",
    "    print(\"  \"+board[7]+\"  |  \"+board[8]+\"  |  \"+board[9]+\"  \")\n",
    "    print(\"-----|-----|-----\")\n",
    "    print(\"  \"+board[4]+\"  |  \"+board[5]+\"  |  \"+board[6]+\"  \")\n",
    "    print(\"-----|-----|-----\")\n",
    "    print(\"  \"+board[1]+\"  |  \"+board[2]+\"  |  \"+board[3]+\"  \")\n",
    "    print(\"     |     |     \")"
   ]
  },
  {
   "cell_type": "code",
   "execution_count": 2,
   "metadata": {},
   "outputs": [],
   "source": [
    "play_board = [' ']*10"
   ]
  },
  {
   "cell_type": "code",
   "execution_count": 3,
   "metadata": {},
   "outputs": [],
   "source": [
    "## Player Input \n",
    "\n",
    "def player_input():\n",
    "    \n",
    "    #Only first player makes a move :\n",
    "    player1_marker=''\n",
    "    \n",
    "    # Checking whether player1 entered X or O :\n",
    "    while (player1_marker!='X' and player1_marker!='O'):\n",
    "        player1_marker = input(\"Player1, Enter your preferred marker [X] or [O] : \")\n",
    "\n",
    "    \n",
    "    if player1_marker=='X':\n",
    "        player2_marker='O'\n",
    "    else:\n",
    "        player2_marker='X'\n",
    "    \n",
    "    \n",
    "    print(f\"Player 1 Chose {player1_marker}\")\n",
    "    print(f\"Player 2 Chose {player2_marker}\")\n",
    "    return (player1_marker,player2_marker)"
   ]
  },
  {
   "cell_type": "code",
   "execution_count": 5,
   "metadata": {},
   "outputs": [],
   "source": [
    "## Checking for winning at each update of board \n",
    "\n",
    "def win_check(board, mark):\n",
    "    win=False\n",
    "    while True:\n",
    "        for position in [1,2,3,4,5,7]:\n",
    "            print(\"at which position ({})\".format(position))\n",
    "            no_of_marks_in_vertical=0\n",
    "            no_of_marks_in_horizontal=0\n",
    "            no_of_marks_in_diagonal=0\n",
    "            if position in [1,2,3]:\n",
    "                # check vertical: \n",
    "                for checker1 in range(position,10,3):\n",
    "                    print(\"Checker 1 ({}) .. {}\".format(checker1,board[checker1]))\n",
    "                    if board[checker1]==mark:\n",
    "                        no_of_marks_in_vertical+=1\n",
    "                        print(\"VERTICAL {}\".format(no_of_marks_in_vertical))\n",
    "\n",
    "            if position in [1,4,7]:\n",
    "                # check horizontal:\n",
    "                for checker2 in range(position,position+3):\n",
    "                    print(\"Checker 2 ({}) .. {}\".format(checker2,board[checker2]))\n",
    "                    if board[checker2]==mark:\n",
    "                        no_of_marks_in_horizontal+=1\n",
    "                        print(\"HORIZONTAL {}\".format(no_of_marks_in_horizontal))\n",
    "\n",
    "            if position in [1,3]:\n",
    "                # check diagonal:\n",
    "                if position==1:\n",
    "                    for checker3 in range(1,10,4):\n",
    "                        print(\"Checker 3 ({}) .. {}\".format(checker3,board[checker3]))\n",
    "                        if board[checker3]==mark:\n",
    "                            no_of_marks_in_diagonal+=1\n",
    "                            print(\"DIAGONAL {}\".format(no_of_marks_in_diagonal))\n",
    "                else:\n",
    "                    for checker3 in range(3,8,2):\n",
    "                        print(\"Checker 3 ({}) .. {}\".format(checker3,board[checker3]))\n",
    "                        if board[checker3]==mark:\n",
    "                            no_of_marks_in_diagonal+=1\n",
    "                            print(\"DIAGONAL {}\".format(no_of_marks_in_diagonal))\n",
    "            # check for winning\n",
    "            if no_of_marks_in_vertical==3 or no_of_marks_in_horizontal==3 or no_of_marks_in_diagonal==3:\n",
    "                win=True\n",
    "                break\n",
    "        if win:\n",
    "            return True\n",
    "        else:\n",
    "            return False"
   ]
  },
  {
   "cell_type": "code",
   "execution_count": 7,
   "metadata": {},
   "outputs": [],
   "source": [
    "## Places the marker at given position\n",
    "\n",
    "def place_marker(board, marker, position):\n",
    "    if position in range(1,10):\n",
    "        if board[position] == ' ':\n",
    "            board[position]=marker    "
   ]
  },
  {
   "cell_type": "code",
   "execution_count": 8,
   "metadata": {},
   "outputs": [],
   "source": [
    "## Who will start first\n",
    "\n",
    "import random\n",
    "\n",
    "def choose_first():\n",
    "    starting = random.randint(1,2)    \n",
    "    print(f\"Player {starting} will start first .. \")\n",
    "    return starting"
   ]
  },
  {
   "cell_type": "code",
   "execution_count": 9,
   "metadata": {},
   "outputs": [],
   "source": [
    "## Checking for available position on board\n",
    "\n",
    "def space_check(board, position):\n",
    "    return board[position]==' '        "
   ]
  },
  {
   "cell_type": "code",
   "execution_count": 10,
   "metadata": {},
   "outputs": [],
   "source": [
    "## Checking for board is full or not \n",
    "\n",
    "def full_board_check(board):\n",
    "    for index_on_board in range(0,10):\n",
    "        if board[index_on_board]==' ':\n",
    "            return False\n",
    "    return True"
   ]
  },
  {
   "cell_type": "code",
   "execution_count": 11,
   "metadata": {},
   "outputs": [],
   "source": [
    "## Entering Value of Position for board\n",
    "\n",
    "def player_choice(board):\n",
    "    position_value=int(input(\"Enter Position That You Want To Put Mark On [1-9] : \"))\n",
    "    if space_check(board,position_value):\n",
    "        return position_value"
   ]
  },
  {
   "cell_type": "code",
   "execution_count": 12,
   "metadata": {},
   "outputs": [],
   "source": [
    "## Checking Replayability\n",
    "\n",
    "def replay():\n",
    "    choice_value=input(\"Do You Want To Play Again : (Y/N) = \")\n",
    "    return choice_value=='Y' or choice_value=='y'"
   ]
  },
  {
   "cell_type": "code",
   "execution_count": 13,
   "metadata": {},
   "outputs": [],
   "source": [
    "# type(replay())\n"
   ]
  },
  {
   "cell_type": "code",
   "execution_count": 18,
   "metadata": {},
   "outputs": [
    {
     "name": "stdout",
     "output_type": "stream",
     "text": [
      "     |     |     \n",
      "     |  X  |     \n",
      "-----|-----|-----\n",
      "  O  |  O  |  O  \n",
      "-----|-----|-----\n",
      "     |  X  |     \n",
      "     |     |     \n",
      "PLAYER 1, WINS !!\n",
      "Do You Want To Play Again : (Y/N) = N\n"
     ]
    }
   ],
   "source": [
    "print('Welcome to Tic Tac Toe!')\n",
    "\n",
    "while True:\n",
    "    play_board = [' ']*10 \n",
    "    player1,player2 = player_input()\n",
    "    initial = choose_first()\n",
    "    winner = False\n",
    "    game_on = input(\"Shall We Start The Game : (Y/N) : \")\n",
    "    while game_on=='Y':\n",
    "        full = full_board_check(play_board)\n",
    "        if full!=True and winner!=True:\n",
    "            \n",
    "            if initial%2==1:\n",
    "                \n",
    "                #Player 1 Turn\n",
    "                print(\"Player 1's Turn : \")\n",
    "                IndexOfChoice = player_choice(play_board)\n",
    "                place_marker(play_board,player1,IndexOfChoice)\n",
    "                winner = win_check(play_board,player1)\n",
    "                display_board(play_board)\n",
    "                initial+=1\n",
    "                \n",
    "            \n",
    "            else:\n",
    "                \n",
    "                # Player2's turn.\n",
    "                print(\"Player 2's Turn : \")\n",
    "                IndexOfChoice = player_choice(play_board)\n",
    "                place_marker(play_board,player2,IndexOfChoice)\n",
    "                winner = win_check(play_board,player2)\n",
    "                display_board(play_board)\n",
    "                initial+=1\n",
    "        else:\n",
    "            if initial%2==0:\n",
    "                print(\"PLAYER 2, WINS !!\")\n",
    "                game_on='N'\n",
    "            else: \n",
    "                print(\"PLAYER 1, WINS !!\")\n",
    "                game_on='N'\n",
    "            \n",
    "    if replay()==True:\n",
    "        play_board=[' ']*10\n",
    "        game_on='y'\n",
    "    else:\n",
    "        game_on='n'\n",
    "        break"
   ]
  }
 ],
 "metadata": {
  "kernelspec": {
   "display_name": "Python 3",
   "language": "python",
   "name": "python3"
  },
  "language_info": {
   "codemirror_mode": {
    "name": "ipython",
    "version": 3
   },
   "file_extension": ".py",
   "mimetype": "text/x-python",
   "name": "python",
   "nbconvert_exporter": "python",
   "pygments_lexer": "ipython3",
   "version": "3.7.4"
  }
 },
 "nbformat": 4,
 "nbformat_minor": 2
}
